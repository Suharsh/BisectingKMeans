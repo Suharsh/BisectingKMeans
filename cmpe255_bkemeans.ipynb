{
 "cells": [
  {
   "cell_type": "code",
   "execution_count": 1,
   "id": "7f550ba3",
   "metadata": {},
   "outputs": [],
   "source": [
    "import numpy as np\n",
    "from scipy.sparse import csr_matrix\n",
    "from sklearn import metrics\n",
    "from sklearn.feature_extraction.text import TfidfTransformer\n",
    "from sklearn.decomposition import TruncatedSVD\n",
    "from sklearn.preprocessing import Normalizer\n",
    "from sklearn.pipeline import make_pipeline\n",
    "from sklearn.cluster import KMeans\n",
    "from sklearn.metrics import silhouette_score"
   ]
  },
  {
   "cell_type": "code",
   "execution_count": 2,
   "id": "c607ef37",
   "metadata": {},
   "outputs": [],
   "source": [
    "import scipy.sparse"
   ]
  },
  {
   "cell_type": "code",
   "execution_count": 3,
   "id": "cb9885d0",
   "metadata": {},
   "outputs": [],
   "source": [
    "with open(\"train.dat\", \"r\", encoding=\"utf8\") as file:\n",
    "    lines = file.readlines()  "
   ]
  },
  {
   "cell_type": "code",
   "execution_count": 4,
   "id": "9aa8d28b",
   "metadata": {},
   "outputs": [],
   "source": [
    "docs = [line.split() for line in lines]"
   ]
  },
  {
   "cell_type": "code",
   "execution_count": 5,
   "id": "6025def5",
   "metadata": {},
   "outputs": [],
   "source": [
    "def convert_to_csr_matrix(docs):\n",
    "    rows = [] #doc number\n",
    "    cols = [] #term indexes\n",
    "    data = [] # frquency values\n",
    "    for docno, doc in enumerate(docs):\n",
    "#         print(doc)\n",
    "        for idx in range(int(len(doc)/2)):\n",
    "            rows.append(docno)\n",
    "            cols.append(int(doc[idx*2])-1)\n",
    "            data.append(float(doc[idx*2+1]))\n",
    "    print(len(rows),len(cols),len(data))\n",
    "    csr_mat = csr_matrix((data, (rows, cols)), dtype = np.single)\n",
    "    return csr_mat"
   ]
  },
  {
   "cell_type": "code",
   "execution_count": 6,
   "id": "883ee57b",
   "metadata": {},
   "outputs": [],
   "source": [
    "def convert_csr_matrix_2_np_array(csr_matrix):\n",
    "    npa = np.array(csr_matrix)\n",
    "    return npa"
   ]
  },
  {
   "cell_type": "code",
   "execution_count": 7,
   "id": "7f8c5a92",
   "metadata": {},
   "outputs": [
    {
     "name": "stdout",
     "output_type": "stream",
     "text": [
      "1107980 1107980 1107980\n"
     ]
    },
    {
     "data": {
      "text/plain": [
       "(8580, 126355)"
      ]
     },
     "execution_count": 7,
     "metadata": {},
     "output_type": "execute_result"
    }
   ],
   "source": [
    "docs_csr = convert_to_csr_matrix(docs)\n",
    "docs_csr.toarray().shape\n",
    "#print(docs_csr)"
   ]
  },
  {
   "cell_type": "code",
   "execution_count": 8,
   "id": "f7b962d6",
   "metadata": {},
   "outputs": [],
   "source": [
    "docs_npa = convert_csr_matrix_2_np_array(docs_csr)"
   ]
  },
  {
   "cell_type": "code",
   "execution_count": 9,
   "id": "dbf6fba4",
   "metadata": {},
   "outputs": [
    {
     "name": "stderr",
     "output_type": "stream",
     "text": [
      "/Library/Frameworks/Python.framework/Versions/3.8/lib/python3.8/site-packages/sklearn/feature_extraction/text.py:1450: RuntimeWarning: divide by zero encountered in true_divide\n",
      "  idf = np.log(n_samples / df) + 1\n"
     ]
    }
   ],
   "source": [
    "transformer = TfidfTransformer(norm='l2', use_idf=True, smooth_idf=False) # go with default values norm='l2', use_idf=True, smooth_idf=True, sublinear_tf=False\n",
    "docs_tfidf = transformer.fit_transform(docs_csr)"
   ]
  },
  {
   "cell_type": "code",
   "execution_count": 10,
   "id": "703de1f9",
   "metadata": {},
   "outputs": [],
   "source": [
    "docs_tfidf_arr = docs_tfidf.toarray()"
   ]
  },
  {
   "cell_type": "code",
   "execution_count": 11,
   "id": "7008e7fc",
   "metadata": {},
   "outputs": [
    {
     "data": {
      "text/plain": [
       "(8580, 126355)"
      ]
     },
     "execution_count": 11,
     "metadata": {},
     "output_type": "execute_result"
    }
   ],
   "source": [
    "docs_tfidf_arr.shape"
   ]
  },
  {
   "cell_type": "code",
   "execution_count": 12,
   "id": "62c75694",
   "metadata": {},
   "outputs": [
    {
     "name": "stdout",
     "output_type": "stream",
     "text": [
      "0.30863065\n"
     ]
    }
   ],
   "source": [
    "svd = TruncatedSVD(n_components=150,n_iter=7)\n",
    "docs_svd = svd.fit_transform(docs_tfidf_arr)\n",
    "tsvd_var_ratios = svd.explained_variance_ratio_\n",
    "var_explained = svd.explained_variance_ratio_.sum()\n",
    "# comp = select_n_components(tsvd_var_ratios, 0.95)\n",
    "print(var_explained)"
   ]
  },
  {
   "cell_type": "code",
   "execution_count": 17,
   "id": "058ec63f",
   "metadata": {},
   "outputs": [
    {
     "data": {
      "text/plain": [
       "(8580, 150)"
      ]
     },
     "execution_count": 17,
     "metadata": {},
     "output_type": "execute_result"
    }
   ],
   "source": [
    "docs_svd.shape"
   ]
  },
  {
   "cell_type": "code",
   "execution_count": 14,
   "id": "375ca042",
   "metadata": {},
   "outputs": [],
   "source": [
    "def getActualIndices(cluster_index, labels): \n",
    "    return np.where(labels == cluster_index)[0]"
   ]
  },
  {
   "cell_type": "code",
   "execution_count": 18,
   "id": "7587e2ba",
   "metadata": {},
   "outputs": [],
   "source": [
    "def bisecting_kmeans(k,data,n_iter):\n",
    "    clusters = []\n",
    "    selected_cluster_indices = []\n",
    "    for i in range(data.shape[0]):\n",
    "        selected_cluster_indices.append(i)\n",
    "\n",
    "    while len(clusters) < k:\n",
    "        selected_cluster_data = data[selected_cluster_indices,:]\n",
    "        kmeans = KMeans(n_clusters=2,n_init=n_iter,random_state=42).fit(selected_cluster_data)\n",
    "        kmeans_cluster_centre = kmeans.cluster_centers_\n",
    "        SSE = [0,0];\n",
    "        for point,label in zip(data,kmeans.labels_):\n",
    "            SSE[label]+=np.square(point-kmeans_cluster_centre[label]).sum()\n",
    "        selected_cluster_index = np.argmax(SSE,axis=0)\n",
    "        dropped_cluster_index = 1 if selected_cluster_index == 0 else 0\n",
    "        selected_cluster = getActualIndices(selected_cluster_index,kmeans.labels_)\n",
    "        dropped_cluster = getActualIndices(dropped_cluster_index,kmeans.labels_)\n",
    "        actual_selected_cluster = []\n",
    "        actual_dropped_cluster = []\n",
    "        for index in selected_cluster:\n",
    "            actual_selected_cluster.append(selected_cluster_indices[index])\n",
    "\n",
    "        for index in dropped_cluster:\n",
    "            actual_dropped_cluster.append(selected_cluster_indices[index])\n",
    "        clusters.append(actual_dropped_cluster)\n",
    "        selected_cluster_indices = actual_selected_cluster\n",
    "\n",
    "    labels = [0] * data.shape[0]\n",
    "    for index, cluster in enumerate(clusters):\n",
    "        for idx in cluster:\n",
    "            labels[idx] = index + 1\n",
    "    return labels"
   ]
  },
  {
   "cell_type": "code",
   "execution_count": 19,
   "id": "e1c1ac13",
   "metadata": {},
   "outputs": [
    {
     "name": "stdout",
     "output_type": "stream",
     "text": [
      "Silhouette_coefficient is 0.066724 for K= 3  \n",
      "Silhouette_coefficient is 0.069106 for K= 5  \n",
      "Silhouette_coefficient is 0.027563 for K= 7  \n",
      "Silhouette_coefficient is 0.008206 for K= 9  \n",
      "Silhouette_coefficient is 0.002533 for K= 11  \n",
      "Silhouette_coefficient is 0.000189 for K= 13  \n",
      "Silhouette_coefficient is -0.017843 for K= 15  \n",
      "Silhouette_coefficient is -0.026683 for K= 17  \n",
      "Silhouette_coefficient is -0.048474 for K= 19  \n",
      "Silhouette_coefficient is -0.055195 for K= 21  \n"
     ]
    }
   ],
   "source": [
    "k_values = list()\n",
    "s_scores = list()\n",
    "for k in range(3, 22, 2):\n",
    "    labels = bisecting_kmeans(k, docs_svd,10)\n",
    "    if (k == 7):\n",
    "        outputFile = open(\"kmeans_suharsh_test_7.dat\", \"w\")\n",
    "        for index in labels:\n",
    "            outputFile.write(str(index) +'\\n')\n",
    "        outputFile.close()\n",
    "    score = silhouette_score(docs_svd, labels,metric='euclidean')\n",
    "    k_values.append(k)\n",
    "    s_scores.append(score)\n",
    "    print (\"Silhouette_coefficient is %f for K= %d  \" %(score,k))"
   ]
  },
  {
   "cell_type": "code",
   "execution_count": 20,
   "id": "73b5fd28",
   "metadata": {},
   "outputs": [
    {
     "data": {
      "image/png": "[encoded data removed]",
      "text/plain": [
       "<Figure size 432x288 with 1 Axes>"
      ]
     },
     "metadata": {
      "needs_background": "light"
     },
     "output_type": "display_data"
    }
   ],
   "source": [
    "%matplotlib inline\n",
    "import matplotlib.pyplot as plt\n",
    "\n",
    "#Plot a graph for different values of k and their Silhouette scores.\n",
    "plt.plot(k_values, s_scores)\n",
    "plt.xticks(k_values, k_values)\n",
    "plt.xlabel('no of clusters')\n",
    "plt.ylabel('silhouette score')\n",
    "plt.title('silhouette trend')\n",
    "plt.grid(linestyle='dotted')\n",
    "\n",
    "plt.savefig('plot.png')\n",
    "plt.show()"
   ]
  },
  {
   "cell_type": "code",
   "execution_count": null,
   "id": "80ea0cb2",
   "metadata": {},
   "outputs": [],
   "source": []
  }
 ],
 "metadata": {
  "kernelspec": {
   "display_name": "Python 3 (ipykernel)",
   "language": "python",
   "name": "python3"
  },
  "language_info": {
   "codemirror_mode": {
    "name": "ipython",
    "version": 3
   },
   "file_extension": ".py",
   "mimetype": "text/x-python",
   "name": "python",
   "nbconvert_exporter": "python",
   "pygments_lexer": "ipython3",
   "version": "3.8.7"
  }
 },
 "nbformat": 4,
 "nbformat_minor": 5
}
